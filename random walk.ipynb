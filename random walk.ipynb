{
 "cells": [
  {
   "cell_type": "code",
   "execution_count": 1,
   "metadata": {},
   "outputs": [],
   "source": [
    "import random"
   ]
  },
  {
   "cell_type": "code",
   "execution_count": 3,
   "metadata": {},
   "outputs": [
    {
     "name": "stdout",
     "output_type": "stream",
     "text": [
      "(0, -2) Distance from home =  2\n",
      "(-1, 5) Distance from home =  6\n",
      "(-4, -2) Distance from home =  6\n",
      "(-1, -3) Distance from home =  4\n",
      "(-2, 2) Distance from home =  4\n",
      "(1, -1) Distance from home =  2\n",
      "(1, 1) Distance from home =  2\n",
      "(2, -4) Distance from home =  6\n",
      "(1, 5) Distance from home =  6\n",
      "(-3, 3) Distance from home =  6\n",
      "(-1, 1) Distance from home =  2\n",
      "(-1, -3) Distance from home =  4\n",
      "(3, -3) Distance from home =  6\n",
      "(0, 2) Distance from home =  2\n",
      "(-1, 3) Distance from home =  4\n",
      "(2, -2) Distance from home =  4\n",
      "(1, 1) Distance from home =  2\n",
      "(-1, 1) Distance from home =  2\n",
      "(2, 0) Distance from home =  2\n",
      "(-4, 2) Distance from home =  6\n",
      "(-3, 3) Distance from home =  6\n",
      "(2, -4) Distance from home =  6\n",
      "(0, -4) Distance from home =  4\n",
      "(-2, 2) Distance from home =  4\n",
      "(5, 1) Distance from home =  6\n"
     ]
    }
   ],
   "source": [
    "def randomWalk(n):\n",
    "    #returns coordinates after n blocks of randomly walking\n",
    "    x = 0\n",
    "    y = 0\n",
    "    for i in range(n):\n",
    "        step = random.choice(['N','S','E','W'])\n",
    "        if step == 'N':\n",
    "            y = y+1\n",
    "        elif step == 'S':\n",
    "            y = y-1\n",
    "        elif step == 'E':\n",
    "            x = x+1\n",
    "        else:\n",
    "            x = x-1\n",
    "    return(x, y)\n",
    "\n",
    "for i in range(25):\n",
    "    walk = randomWalk(10)\n",
    "    print(walk, \"Distance from home = \",abs(walk[0]) + abs(walk[1]))"
   ]
  },
  {
   "cell_type": "code",
   "execution_count": 4,
   "metadata": {},
   "outputs": [
    {
     "name": "stdout",
     "output_type": "stream",
     "text": [
      "(2, -2) Distance from home =  4\n",
      "(-3, -1) Distance from home =  4\n",
      "(0, 0) Distance from home =  0\n",
      "(-1, -1) Distance from home =  2\n",
      "(2, 2) Distance from home =  4\n",
      "(-2, 2) Distance from home =  4\n",
      "(-2, 2) Distance from home =  4\n",
      "(1, 1) Distance from home =  2\n",
      "(-4, 2) Distance from home =  6\n",
      "(0, 2) Distance from home =  2\n",
      "(3, 1) Distance from home =  4\n",
      "(0, 0) Distance from home =  0\n",
      "(2, -2) Distance from home =  4\n",
      "(2, 4) Distance from home =  6\n",
      "(1, 1) Distance from home =  2\n",
      "(0, 0) Distance from home =  0\n",
      "(0, 0) Distance from home =  0\n",
      "(-1, 1) Distance from home =  2\n",
      "(0, -2) Distance from home =  2\n",
      "(0, 2) Distance from home =  2\n",
      "(0, -2) Distance from home =  2\n",
      "(0, 2) Distance from home =  2\n",
      "(0, -4) Distance from home =  4\n",
      "(-2, -2) Distance from home =  4\n",
      "(-2, -2) Distance from home =  4\n"
     ]
    }
   ],
   "source": [
    "def randomWalk2(n):\n",
    "    #returns coordinates after n block random walk\n",
    "    x, y = 0, 0\n",
    "    for i in range(n):\n",
    "        (dx, dy) = random.choice([(0,1), (0,-1), (1,0), (-1,0)])\n",
    "        x += dx\n",
    "        y += dy\n",
    "    return(x,y)\n",
    "\n",
    "for i in range(25):\n",
    "    walk = randomWalk2(10)\n",
    "    print(walk, \"Distance from home = \",abs(walk[0])+abs(walk[1]))"
   ]
  },
  {
   "cell_type": "code",
   "execution_count": null,
   "metadata": {},
   "outputs": [],
   "source": [
    "## What is the longest random walk you can take so that on average,\n",
    "#you will end up 4 blokcs or fewer from home?"
   ]
  },
  {
   "cell_type": "code",
   "execution_count": 7,
   "metadata": {},
   "outputs": [
    {
     "name": "stdout",
     "output_type": "stream",
     "text": [
      "Walk size =  1  | % of no transport =  100.0\n",
      "Walk size =  2  | % of no transport =  100.0\n",
      "Walk size =  3  | % of no transport =  100.0\n",
      "Walk size =  4  | % of no transport =  100.0\n",
      "Walk size =  5  | % of no transport =  88.155\n",
      "Walk size =  6  | % of no transport =  93.94500000000001\n",
      "Walk size =  7  | % of no transport =  77.16\n",
      "Walk size =  8  | % of no transport =  86.995\n",
      "Walk size =  9  | % of no transport =  67.67\n",
      "Walk size =  10  | % of no transport =  79.635\n",
      "Walk size =  11  | % of no transport =  59.855000000000004\n",
      "Walk size =  12  | % of no transport =  72.75\n",
      "Walk size =  13  | % of no transport =  53.580000000000005\n",
      "Walk size =  14  | % of no transport =  68.01\n",
      "Walk size =  15  | % of no transport =  48.1\n",
      "Walk size =  16  | % of no transport =  62.185\n",
      "Walk size =  17  | % of no transport =  44.66\n",
      "Walk size =  18  | % of no transport =  58.225\n",
      "Walk size =  19  | % of no transport =  40.54\n",
      "Walk size =  20  | % of no transport =  54.15\n",
      "Walk size =  21  | % of no transport =  37.875\n",
      "Walk size =  22  | % of no transport =  51.04\n",
      "Walk size =  23  | % of no transport =  35.115\n",
      "Walk size =  24  | % of no transport =  47.905\n",
      "Walk size =  25  | % of no transport =  34.0\n",
      "Walk size =  26  | % of no transport =  44.995000000000005\n",
      "Walk size =  27  | % of no transport =  30.875000000000004\n",
      "Walk size =  28  | % of no transport =  42.935\n",
      "Walk size =  29  | % of no transport =  28.994999999999997\n",
      "Walk size =  30  | % of no transport =  40.835\n"
     ]
    }
   ],
   "source": [
    "numWalk = 20000\n",
    "for walkLength in range(1, 31):\n",
    "    noTransit = 0 #number of wlaks 4 or fewer blocks from home\n",
    "    for i in range(numWalk):\n",
    "        (x, y) = randomWalk2(walkLength)\n",
    "        distance = abs(x) + abs(y)\n",
    "        if distance <= 4:\n",
    "            noTransit += 1\n",
    "    noTransitPercent = float(noTransit/numWalk)\n",
    "    print(\"Walk size = \", walkLength, \" | % of no transport = \", 100*noTransitPercent)"
   ]
  },
  {
   "cell_type": "code",
   "execution_count": null,
   "metadata": {},
   "outputs": [],
   "source": []
  }
 ],
 "metadata": {
  "kernelspec": {
   "display_name": "Python 3",
   "language": "python",
   "name": "python3"
  },
  "language_info": {
   "codemirror_mode": {
    "name": "ipython",
    "version": 3
   },
   "file_extension": ".py",
   "mimetype": "text/x-python",
   "name": "python",
   "nbconvert_exporter": "python",
   "pygments_lexer": "ipython3",
   "version": "3.7.1"
  }
 },
 "nbformat": 4,
 "nbformat_minor": 2
}
